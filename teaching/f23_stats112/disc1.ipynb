{
 "cells": [
  {
   "cell_type": "markdown",
   "metadata": {},
   "source": [
    "## |[Home](../../index.html) | [Teaching](../../teaching)|\n",
    "\n",
    "# Stats 112: Discussion 1 \n",
    "\n",
    "## Welcome to Stats 112\n",
    "\n",
    "There will be more to come!"
   ]
  },
  {
   "cell_type": "code",
   "execution_count": 1,
   "metadata": {
    "vscode": {
     "languageId": "r"
    }
   },
   "outputs": [
    {
     "data": {
      "text/html": [
       "'Can you read this?'"
      ],
      "text/latex": [
       "'Can you read this?'"
      ],
      "text/markdown": [
       "'Can you read this?'"
      ],
      "text/plain": [
       "[1] \"Can you read this?\""
      ]
     },
     "metadata": {},
     "output_type": "display_data"
    }
   ],
   "source": [
    "test <- function(s) {\n",
    "    return(s)\n",
    "}\n",
    "\n",
    "test(\"Can you read this?\")"
   ]
  }
 ],
 "metadata": {
  "kernelspec": {
   "display_name": "R",
   "language": "R",
   "name": "ir"
  },
  "language_info": {
   "codemirror_mode": "r",
   "file_extension": ".r",
   "mimetype": "text/x-r-source",
   "name": "R",
   "pygments_lexer": "r",
   "version": "4.3.1"
  },
  "orig_nbformat": 4
 },
 "nbformat": 4,
 "nbformat_minor": 2
}
